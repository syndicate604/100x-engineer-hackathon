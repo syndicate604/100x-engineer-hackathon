{
 "cells": [
  {
   "cell_type": "code",
   "execution_count": 1,
   "metadata": {},
   "outputs": [],
   "source": [
    "class JinaReader:\n",
    "    def __init__(self, api_key=None):\n",
    "        self.base_read_url = \"https://r.jina.ai/\"\n",
    "        self.base_search_url = \"https://s.jina.ai/\"\n",
    "        self.api_key = api_key\n",
    "\n",
    "    def read_url(self, url):\n",
    "        \"\"\"Read content from a specific URL\"\"\"\n",
    "        import requests\n",
    "\n",
    "        headers = {}\n",
    "        if self.api_key:\n",
    "            headers[\"Authorization\"] = f\"Bearer {self.api_key}\"\n",
    "\n",
    "        full_url = f\"{self.base_read_url}{url}\"\n",
    "        response = requests.get(full_url, headers=headers)\n",
    "        return response.text\n",
    "\n",
    "    def search(self, query):\n",
    "        \"\"\"Search the web and get results\"\"\"\n",
    "        import requests\n",
    "\n",
    "        headers = {}\n",
    "        if self.api_key:\n",
    "            headers[\"Authorization\"] = f\"Bearer {self.api_key}\"\n",
    "\n",
    "        full_url = f\"{self.base_search_url}{query}\"\n",
    "        response = requests.get(full_url, headers=headers)\n",
    "        return response.text\n"
   ]
  },
  {
   "cell_type": "code",
   "execution_count": null,
   "metadata": {},
   "outputs": [],
   "source": [
    "reader = JinaReader(api_key=\"your_api_key\")  # API key is optional\n",
    "\n",
    "# Read content from a URL\n",
    "content = reader.read_url(\"https://example.com\")\n",
    "print(\"URL Content:\", content)\n",
    "\n",
    "# Search the web\n",
    "search_results = reader.search(\"artificial intelligence\")\n",
    "print(\"Search Results:\", search_results)"
   ]
  }
 ],
 "metadata": {
  "kernelspec": {
   "display_name": "personal",
   "language": "python",
   "name": "python3"
  },
  "language_info": {
   "codemirror_mode": {
    "name": "ipython",
    "version": 3
   },
   "file_extension": ".py",
   "mimetype": "text/x-python",
   "name": "python",
   "nbconvert_exporter": "python",
   "pygments_lexer": "ipython3",
   "version": "3.11.10"
  }
 },
 "nbformat": 4,
 "nbformat_minor": 2
}
