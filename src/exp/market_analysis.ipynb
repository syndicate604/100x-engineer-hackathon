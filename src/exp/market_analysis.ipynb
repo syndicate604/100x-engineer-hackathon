{
 "cells": [
  {
   "cell_type": "code",
   "execution_count": null,
   "metadata": {},
   "outputs": [],
   "source": [
    "import sys\n",
    "import os\n",
    "\n",
    "CUR_DIR = os.getcwd()\n",
    "CUR_DIR = CUR_DIR.replace(\"\\\\\", \"/\").replace('/exp','')\n",
    "sys.path.append(CUR_DIR)"
   ]
  },
  {
   "cell_type": "code",
   "execution_count": null,
   "metadata": {},
   "outputs": [],
   "source": [
    "from dotenv import load_dotenv\n",
    "import os\n",
    "from app.exa import ExaAPI\n",
    "from app.schemas.llm import ChatRequest, Message\n",
    "from pydantic import BaseModel\n",
    "from app.llm import LiteLLMKit\n",
    "from app.jina import JinaReader\n",
    "\n",
    "load_dotenv()\n",
    "\n",
    "exa_api = ExaAPI(api_key=os.getenv(\"EXA_API_KEY\"))\n",
    "client = LiteLLMKit(model_name=\"gpt-4o\", temperature=0.7, max_tokens=1024, stream=False)\n",
    "reader = JinaReader(api_key=os.getenv(\"JINA_API_KEY\"))"
   ]
  },
  {
   "cell_type": "code",
   "execution_count": null,
   "metadata": {},
   "outputs": [],
   "source": [
    "from app.routers.market_analysis import MarketAnalyzer"
   ]
  },
  {
   "cell_type": "code",
   "execution_count": null,
   "metadata": {},
   "outputs": [],
   "source": [
    "ma = MarketAnalyzer()"
   ]
  },
  {
   "cell_type": "code",
   "execution_count": null,
   "metadata": {},
   "outputs": [],
   "source": [
    "res = ma.breakdown_problem(\"WHats the market for NPC as an service? in AR, MR and gaming?\")"
   ]
  },
  {
   "cell_type": "code",
   "execution_count": null,
   "metadata": {},
   "outputs": [],
   "source": [
    "res"
   ]
  },
  {
   "cell_type": "code",
   "execution_count": null,
   "metadata": {},
   "outputs": [],
   "source": [
    "ma.perform_analysis()"
   ]
  },
  {
   "cell_type": "code",
   "execution_count": null,
   "metadata": {},
   "outputs": [],
   "source": [
    "report = ma.compile_comprehensive_report()"
   ]
  },
  {
   "cell_type": "code",
   "execution_count": null,
   "metadata": {},
   "outputs": [],
   "source": [
    "final_report = ma.get_report()"
   ]
  },
  {
   "cell_type": "code",
   "execution_count": null,
   "metadata": {},
   "outputs": [],
   "source": [
    "print(final_report.comprehensive_report)"
   ]
  },
  {
   "cell_type": "code",
   "execution_count": null,
   "metadata": {},
   "outputs": [],
   "source": []
  }
 ],
 "metadata": {
  "kernelspec": {
   "display_name": "personal",
   "language": "python",
   "name": "python3"
  },
  "language_info": {
   "codemirror_mode": {
    "name": "ipython",
    "version": 3
   },
   "file_extension": ".py",
   "mimetype": "text/x-python",
   "name": "python",
   "nbconvert_exporter": "python",
   "pygments_lexer": "ipython3",
   "version": "3.11.10"
  }
 },
 "nbformat": 4,
 "nbformat_minor": 2
}
