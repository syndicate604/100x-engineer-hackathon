{
 "cells": [
  {
   "cell_type": "code",
   "execution_count": 1,
   "metadata": {},
   "outputs": [],
   "source": [
    "import sys\n",
    "import os\n",
    "\n",
    "CUR_DIR = os.getcwd()\n",
    "CUR_DIR = CUR_DIR.replace(\"\\\\\", \"/\").replace('/exp','')\n",
    "sys.path.append(CUR_DIR)"
   ]
  },
  {
   "cell_type": "code",
   "execution_count": 2,
   "metadata": {},
   "outputs": [],
   "source": [
    "from dotenv import load_dotenv\n",
    "import os\n",
    "from app.exa import ExaAPI\n",
    "from app.schemas.llm import ChatRequest, Message\n",
    "from pydantic import BaseModel\n",
    "from app.llm import LiteLLMKit\n",
    "from app.jina import JinaReader\n",
    "\n",
    "load_dotenv()\n",
    "\n",
    "exa_api = ExaAPI(api_key=os.getenv(\"EXA_API_KEY\"))\n",
    "client = LiteLLMKit(model_name=\"gpt-4o\", temperature=0.7, max_tokens=1024, stream=False)\n",
    "reader = JinaReader(api_key=os.getenv(\"JINA_API_KEY\"))"
   ]
  },
  {
   "cell_type": "code",
   "execution_count": 3,
   "metadata": {},
   "outputs": [],
   "source": [
    "from app.routers.market_analysis import MarketAnalyzer"
   ]
  },
  {
   "cell_type": "code",
   "execution_count": 4,
   "metadata": {},
   "outputs": [],
   "source": [
    "ma = MarketAnalyzer()"
   ]
  },
  {
   "cell_type": "code",
   "execution_count": 5,
   "metadata": {},
   "outputs": [],
   "source": [
    "res = ma.breakdown_problem(\"WHats the market for NPC as an service? in AR, MR and gaming?\")"
   ]
  },
  {
   "cell_type": "code",
   "execution_count": 6,
   "metadata": {},
   "outputs": [
    {
     "data": {
      "text/plain": [
       "ProblemBreakdown(questions=['What are the current trends and growth projections for the NPC-as-a-Service market?', 'How is NPC-as-a-Service utilized specifically in Augmented Reality (AR) applications?', 'What are the unique challenges and opportunities for NPC-as-a-Service in Mixed Reality (MR) environments?', 'How does NPC-as-a-Service integrate into the gaming industry, and what are the most popular use cases?', 'Who are the key players and competitors in the NPC-as-a-Service market across AR, MR, and gaming sectors?', 'What are the technological requirements and advancements necessary for implementing NPC-as-a-Service effectively in these domains?', 'How do consumer preferences and behaviors impact the demand for NPC-as-a-Service in AR, MR, and gaming?', 'What are the pricing models and monetization strategies commonly used in the NPC-as-a-Service market?', 'What regulatory or ethical considerations should businesses be aware of when offering NPC-as-a-Service in these technologies?', 'How do NPCs enhance user experience and engagement in AR, MR, and gaming applications, and what evidence supports their effectiveness?'])"
      ]
     },
     "execution_count": 6,
     "metadata": {},
     "output_type": "execute_result"
    }
   ],
   "source": [
    "res"
   ]
  },
  {
   "cell_type": "code",
   "execution_count": 7,
   "metadata": {},
   "outputs": [],
   "source": [
    "ma.perform_analysis()"
   ]
  },
  {
   "cell_type": "code",
   "execution_count": 8,
   "metadata": {},
   "outputs": [],
   "source": [
    "report = ma.compile_comprehensive_report()"
   ]
  },
  {
   "cell_type": "code",
   "execution_count": 9,
   "metadata": {},
   "outputs": [],
   "source": [
    "final_report = ma.get_report()"
   ]
  },
  {
   "cell_type": "code",
   "execution_count": 13,
   "metadata": {},
   "outputs": [
    {
     "name": "stdout",
     "output_type": "stream",
     "text": [
      "**Comprehensive Report on the NPC-as-a-Service Market in AR, MR, and Gaming**\n",
      "\n",
      "**Introduction:**\n",
      "The burgeoning market of NPC-as-a-Service (NPCaaS) is positioned at the intersection of AI, cloud computing, and immersive digital technologies. While specific market data is sparse, insights can be gleaned from adjacent sectors such as gaming, augmented reality (AR), and mixed reality (MR). This report synthesizes various aspects of NPCaaS, exploring its applications, challenges, and potential within these technologies.\n",
      "\n",
      "**Market Trends and Growth Projections:**\n",
      "The demand for AI and cloud services is on an upward trajectory, driven by the gaming industry's expansion and the shift towards scalable SaaS models. NPCaaS is poised to benefit from these trends, offering scalable and efficient NPC integration solutions that enhance interactivity and user engagement.\n",
      "\n",
      "**Applications in AR and MR:**\n",
      "- **Augmented Reality (AR):** NPCaaS can enhance AR applications by populating real-world environments with interactive characters, crucial for gaming, training, and educational purposes. The cloud-based nature of NPCaaS supports complex NPC behaviors without burdening local devices, ensuring scalability and adaptability.\n",
      "- **Mixed Reality (MR):** In MR environments, NPCs can provide immersive storytelling and interactive simulations. However, challenges such as real-time interaction, technical complexity, and scalability must be addressed to ensure seamless integration with MR platforms like HoloLens or Oculus.\n",
      "\n",
      "**Integration in the Gaming Industry:**\n",
      "NPCaaS offers solutions for dynamic storytelling, multiplayer online interactions, and live event facilitation, significantly enhancing user engagement in gaming. Key players like Unity Technologies and Epic Games, with their robust platforms, are well-positioned to integrate NPCaaS into their ecosystems, leveraging AI and cloud capabilities.\n",
      "\n",
      "**Technological Requirements and Advancements:**\n",
      "The effective implementation of NPCaaS requires advancements in AI models, cloud computing, and data analytics. Enhanced AI algorithms, natural language processing, and integration with AR/VR technologies are critical for creating realistic, adaptable NPCs. Furthermore, edge computing can reduce latency, improving interaction quality.\n",
      "\n",
      "**Consumer Preferences and Behavioral Impacts:**\n",
      "Consumers increasingly demand personalized and immersive experiences. NPCaaS can cater to this by providing adaptable NPCs that respond to user actions, thus enhancing engagement. The rise in AR and MR adoption further expands the potential user base for NPCaaS, aligning with consumer trends for interactive digital experiences.\n",
      "\n",
      "**Pricing Models and Monetization Strategies:**\n",
      "Potential pricing models for NPCaaS include subscription-based, usage-based, and freemium models. Monetization strategies might involve integration fees, advertising, and data monetization. Flexibility and customization are key, as clients seek tailored solutions to integrate NPCs into their unique workflows.\n",
      "\n",
      "**Regulatory and Ethical Considerations:**\n",
      "Businesses must navigate data privacy laws (e.g., GDPR, CCPA) and address intellectual property and consumer protection concerns. Ethically, transparency, bias mitigation, and user wellbeing are paramount. Companies should develop comprehensive policies and engage in regular audits to ensure compliance and ethical integrity.\n",
      "\n",
      "**Conclusion:**\n",
      "NPC-as-a-Service holds significant potential across AR, MR, and gaming sectors, driven by advancements in AI and cloud technologies. While challenges exist in terms of technical integration and scalability, the opportunities for enhanced user engagement and innovative applications are substantial. Companies that address these challenges and capitalize on emerging trends will likely gain a competitive edge in this evolving market landscape. Continued investment in AI capabilities, cross-platform compatibility, and ethical deployment will be crucial for realizing the full potential of NPCaaS.\n"
     ]
    }
   ],
   "source": [
    "print(final_report.comprehensive_report)"
   ]
  },
  {
   "cell_type": "code",
   "execution_count": null,
   "metadata": {},
   "outputs": [],
   "source": []
  }
 ],
 "metadata": {
  "kernelspec": {
   "display_name": "personal",
   "language": "python",
   "name": "python3"
  },
  "language_info": {
   "codemirror_mode": {
    "name": "ipython",
    "version": 3
   },
   "file_extension": ".py",
   "mimetype": "text/x-python",
   "name": "python",
   "nbconvert_exporter": "python",
   "pygments_lexer": "ipython3",
   "version": "3.11.10"
  }
 },
 "nbformat": 4,
 "nbformat_minor": 2
}
