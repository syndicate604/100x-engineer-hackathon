{
 "cells": [
  {
   "cell_type": "code",
   "execution_count": 1,
   "metadata": {},
   "outputs": [],
   "source": [
    "import sys\n",
    "import os\n",
    "\n",
    "CUR_DIR = os.getcwd()\n",
    "CUR_DIR = CUR_DIR.replace(\"\\\\\", \"/\").replace('/exp','')\n",
    "sys.path.append(CUR_DIR)"
   ]
  },
  {
   "cell_type": "code",
   "execution_count": 2,
   "metadata": {},
   "outputs": [
    {
     "data": {
      "text/plain": [
       "True"
      ]
     },
     "execution_count": 2,
     "metadata": {},
     "output_type": "execute_result"
    }
   ],
   "source": [
    "from dotenv import load_dotenv\n",
    "\n",
    "load_dotenv()\n"
   ]
  },
  {
   "cell_type": "code",
   "execution_count": 3,
   "metadata": {},
   "outputs": [],
   "source": [
    "from app.routers.customer_discovery import CustomerDiscoverer"
   ]
  },
  {
   "cell_type": "code",
   "execution_count": 4,
   "metadata": {},
   "outputs": [],
   "source": [
    "cd = CustomerDiscoverer(\"NPC as an AI for VR, MR, AR and gaming\")"
   ]
  },
  {
   "cell_type": "code",
   "execution_count": null,
   "metadata": {},
   "outputs": [
    {
     "name": "stdout",
     "output_type": "stream",
     "text": [
      "High-level query: To conduct a comprehensive market research query for understanding customer markets in the NPC (Non-Player Character) as an AI for VR (Virtual Reality), MR (Mixed Reality), AR (Augmented Reality), and gaming domain, it's essential to gather detailed insights into various aspects of the market. Here is a structured approach that could guide the research process:\n",
      "\n",
      "### Market Segmentation:\n",
      "\n",
      "1. **Demographic Segmentation:**\n",
      "   - Identify key age groups that are interested in VR, MR, AR, and gaming, particularly those engaging with NPCs.\n",
      "   - Determine gender distribution and preferences in gaming and VR/AR experiences.\n",
      "   - Analyze geographic areas with the highest adoption rates and market potential.\n",
      "\n",
      "2. **Psychographic Segmentation:**\n",
      "   - Explore lifestyle and personality traits of key customer segments.\n",
      "   - Understand motivations and needs driving engagement with NPCs in immersive environments.\n",
      "   - Investigate the values and attitudes towards technology and innovation in gaming.\n",
      "\n",
      "3. **Behavioral Segmentation:**\n",
      "   - Identify usage patterns, including frequency and duration of VR/AR gaming sessions.\n",
      "   - Examine purchasing behavior for gaming content and related technologies.\n",
      "   - Profile early adopters versus mainstream users in the gaming market.\n",
      "\n",
      "### Key Customer Segments:\n",
      "\n",
      "1. **Hardcore Gamers:**\n",
      "   - Preferences for complex and challenging NPC interactions.\n",
      "   - Interest in high-quality graphics and immersive experiences.\n",
      "\n",
      "2. **Casual Gamers:**\n",
      "   - Desire for easy-to-use and accessible gaming experiences.\n",
      "   - Interest in social and multiplayer aspects with NPCs.\n",
      "\n",
      "3. **Professional Users:**\n",
      "   - Use of VR/MR/AR for training and simulation with NPCs.\n",
      "   - Requirements for realistic and precise AI-driven interactions.\n",
      "\n",
      "4. **Educational Institutions:**\n",
      "   - Application of NPCs in educational content and learning environments.\n",
      "   - Integration of VR/AR as teaching tools.\n",
      "\n",
      "5. **Content Creators and Developers:**\n",
      "   - Needs for robust tools and platforms to develop NPCs.\n",
      "   - Interest in collaborative and open-source environments.\n",
      "\n",
      "### Workflows and Market Characteristics:\n",
      "\n",
      "1. **Customer Journey Mapping:**\n",
      "   - Explore the steps customers take from awareness to purchase and retention.\n",
      "   - Identify touchpoints and interactions with NPC technologies.\n",
      "\n",
      "2. **Technology Adoption Lifecycle:**\n",
      "   - Analyze early adoption patterns and factors driving market maturity.\n",
      "   - Study barriers to adoption and potential areas for market expansion.\n",
      "\n",
      "3. **Competitive Analysis:**\n",
      "   - Identify key players and emerging startups in the NPC technology space.\n",
      "   - Understand competitive advantages and unique selling propositions.\n",
      "\n",
      "4. **Pricing Models and Revenue Streams:**\n",
      "   - Investigate prevalent pricing strategies for VR/AR gaming content and NPC tools.\n",
      "   - Explore alternative revenue streams such as subscriptions, in-game purchases, and advertising.\n",
      "\n",
      "5. **Regulatory and Ethical Considerations:**\n",
      "   - Examine regulations impacting the development and deployment of NPCs.\n",
      "   - Study ethical implications and user privacy concerns associated with AI in gaming.\n",
      "\n",
      "6. **Technological Trends:**\n",
      "   - Identify emerging technologies influencing NPC development and deployment.\n",
      "   - Explore advancements in AI, machine learning, and graphics rendering.\n",
      "\n",
      "### Data Collection Methods:\n",
      "\n",
      "1. **Surveys and Questionnaires:**\n",
      "   - Conduct online surveys targeting different customer segments.\n",
      "   - Gather quantitative data on preferences, usage patterns, and satisfaction levels.\n",
      "\n",
      "2. **Focus Groups:**\n",
      "   - Organize focus groups to gain qualitative insights into customer experiences and expectations.\n",
      "\n",
      "3. **Interviews:**\n",
      "   - Conduct in-depth interviews with industry experts, developers, and influencers.\n",
      "\n",
      "4. **Secondary Research:**\n",
      "   - Analyze existing reports, market analyses, and academic studies on VR/AR and gaming trends.\n",
      "\n",
      "5. **Social Media and Online Communities:**\n",
      "   - Monitor discussions and feedback on platforms like Reddit, Discord, and gaming forums.\n",
      "\n",
      "By addressing these areas, the research will provide a comprehensive understanding of the customer markets in the NPC as an AI for VR, MR, AR, and gaming domain, helping to identify opportunities for innovation and growth.\n",
      "Identified niches: ['1. **Educational VR Simulations with NPCs:**\\n   - **Description:** Use of NPCs as virtual educators or guides in immersive learning environments, such as history reenactments or science labs.\\n   - **Market Significance:** High potential for growth as educational institutions increasingly adopt VR for interactive learning experiences.', '2. **NPC-Driven Fitness Applications:**\\n   - **Description:** NPCs serve as virtual trainers or workout companions in AR/VR fitness apps, providing real-time feedback and motivation.\\n   - **Market Significance:** Growing interest in tech-driven wellness solutions can drive demand for engaging and personalized fitness experiences.', '3. **Therapeutic and Mental Health Applications:**\\n   - **Description:** Utilization of NPCs in AR/VR environments for therapeutic purposes, such as anxiety reduction or social skills training.\\n   - **Market Significance:** Rising awareness and acceptance of mental health treatments through innovative tech solutions.', \"4. **Retail and E-commerce Experiences:**\\n   - **Description:** NPCs act as virtual shopping assistants or customer service agents in immersive retail environments.\\n   - **Market Significance:** As e-commerce continues to evolve, there's a growing trend towards interactive and personalized shopping experiences.\", '5. **NPCs in Narrative-Driven Games:**\\n   - **Description:** Development of complex, story-rich games where NPCs play pivotal roles in the narrative, offering dynamic interactions and character development.\\n   - **Market Significance:** High appeal among hardcore gamers who value deep storytelling and character engagement.', '6. **NPCs in Sports Simulation Games:**\\n   - **Description:** Realistic NPCs simulating players, coaches, or commentators in VR sports games.\\n   - **Market Significance:** Increasing popularity of sports gaming, coupled with advancements in AI for realistic sports simulations, presents a lucrative niche.', '7. **NPCs for Social VR Platforms:**\\n   - **Description:** Integration of NPCs in social VR environments as virtual friends, guides, or entertainers.\\n   - **Market Significance:** Growing interest in social interaction within virtual spaces, especially in the wake of increased remote socialization.', '8. **NPCs in Historical and Cultural Experiences:**\\n   - **Description:** NPCs as historical figures or cultural guides in VR/AR applications that educate users about different cultures or historical events.\\n   - **Market Significance:** Valuable for cultural preservation, education, and tourism industries seeking innovative ways to engage audiences.', '9. **NPCs in Creative VR Tools:**\\n   - **Description:** NPCs that assist users in creative tasks, such as art creation, music composition, or content design in VR.\\n   - **Market Significance:** Growing market for creative tools that leverage AI to enhance user creativity and productivity.', '10. **NPCs in Disaster Preparedness and Safety Training:**\\n   - **Description:** NPCs used in VR simulations for training individuals in emergency response and safety procedures.\\n   - **Market Significance:** Critical need for effective training tools in industries such as healthcare, aviation, and public safety.']\n",
      "Search query for '1. **Educational VR Simulations with NPCs:**\n",
      "   - **Description:** Use of NPCs as virtual educators or guides in immersive learning environments, such as history reenactments or science labs.\n",
      "   - **Market Significance:** High potential for growth as educational institutions increasingly adopt VR for interactive learning experiences.': \"Educational VR Simulations NPCs market analysis: growth potential, customer demographics, market size, key trends AI-driven NPCs immersive learning environments history science VR MR AR gaming\"\n"
     ]
    }
   ],
   "source": [
    "rp = cd.discover()"
   ]
  },
  {
   "cell_type": "code",
   "execution_count": null,
   "metadata": {},
   "outputs": [],
   "source": [
    "rp"
   ]
  },
  {
   "cell_type": "code",
   "execution_count": null,
   "metadata": {},
   "outputs": [],
   "source": []
  }
 ],
 "metadata": {
  "kernelspec": {
   "display_name": "personal",
   "language": "python",
   "name": "python3"
  },
  "language_info": {
   "codemirror_mode": {
    "name": "ipython",
    "version": 3
   },
   "file_extension": ".py",
   "mimetype": "text/x-python",
   "name": "python",
   "nbconvert_exporter": "python",
   "pygments_lexer": "ipython3",
   "version": "3.11.10"
  }
 },
 "nbformat": 4,
 "nbformat_minor": 2
}
